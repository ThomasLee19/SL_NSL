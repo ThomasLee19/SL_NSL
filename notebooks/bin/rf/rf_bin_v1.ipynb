{
 "cells": [
  {
   "cell_type": "code",
   "execution_count": 11,
   "metadata": {},
   "outputs": [],
   "source": [
    "# Cell 1: Import Libraries and Setup Paths\n",
    "import cudf\n",
    "import cupy as cp\n",
    "from cuml import RandomForestClassifier\n",
    "from cuml.metrics import accuracy_score\n",
    "from sklearn.model_selection import train_test_split\n",
    "from cuml.metrics.confusion_matrix import confusion_matrix\n",
    "from sklearn.metrics import classification_report\n",
    "\n",
    "# Define paths\n",
    "processed_train_path = '/root/autodl-tmp/projects/SL_NSL/dataset/processed/bin/KDDTrain_processed.csv'\n",
    "processed_test_path = '/root/autodl-tmp/projects/SL_NSL/dataset/processed/bin/KDDTest_processed.csv'"
   ]
  },
  {
   "cell_type": "code",
   "execution_count": 12,
   "metadata": {},
   "outputs": [
    {
     "name": "stdout",
     "output_type": "stream",
     "text": [
      "Loading processed training data...\n",
      "Feature matrix shape: (125973, 108)\n",
      "Label distribution:\n",
      "0    67343\n",
      "1    58630\n",
      "Name: binary_label, dtype: int64\n"
     ]
    }
   ],
   "source": [
    "# Cell 2: Load training data\n",
    "print(\"Loading processed training data...\")\n",
    "df_train = cudf.read_csv(processed_train_path)\n",
    "\n",
    "# Select features and labels\n",
    "X = df_train.drop(columns=['binary_label']).astype('float32')\n",
    "y_binary = df_train['binary_label']\n",
    "\n",
    "# Display data info\n",
    "print(\"Feature matrix shape:\", X.shape)\n",
    "print(\"Label distribution:\")\n",
    "print(y_binary.value_counts().to_pandas())"
   ]
  },
  {
   "cell_type": "code",
   "execution_count": 13,
   "metadata": {},
   "outputs": [
    {
     "name": "stdout",
     "output_type": "stream",
     "text": [
      "Dataset split complete\n",
      "Training samples: 100778\n",
      "Validation samples: 25195\n"
     ]
    }
   ],
   "source": [
    "# Cell 3: Split into training and validation sets\n",
    "X_train, X_test, y_train, y_test = train_test_split(\n",
    "    X, y_binary, test_size=0.2, random_state=42,\n",
    ")\n",
    "\n",
    "# Data type conversion\n",
    "X_train = X_train.astype('float32')\n",
    "X_test = X_test.astype('float32')\n",
    "\n",
    "print(\"Dataset split complete\")\n",
    "print(f\"Training samples: {X_train.shape[0]}\")\n",
    "print(f\"Validation samples: {X_test.shape[0]}\")"
   ]
  },
  {
   "cell_type": "code",
   "execution_count": 14,
   "metadata": {},
   "outputs": [
    {
     "name": "stdout",
     "output_type": "stream",
     "text": [
      "\n",
      "Training Random Forest model on GPU...\n",
      "\n",
      "Evaluating on validation set...\n",
      "Validation Accuracy: 1.00\n",
      "\n",
      "Confusion Matrix:\n",
      "[[13409    13]\n",
      " [   73 11700]]\n",
      "\n",
      "Classification Report:\n",
      "              precision    recall  f1-score   support\n",
      "\n",
      "           0       0.99      1.00      1.00     13422\n",
      "           1       1.00      0.99      1.00     11773\n",
      "\n",
      "    accuracy                           1.00     25195\n",
      "   macro avg       1.00      1.00      1.00     25195\n",
      "weighted avg       1.00      1.00      1.00     25195\n",
      "\n"
     ]
    }
   ],
   "source": [
    "# Cell 4: Create and train Random Forest model\n",
    "print(\"\\nTraining Random Forest model on GPU...\")\n",
    "rf_binary = RandomForestClassifier(n_estimators=50, random_state=42, n_streams=1)\n",
    "rf_binary.fit(X_train, y_train)\n",
    "\n",
    "# Predict and evaluate on validation set\n",
    "print(\"\\nEvaluating on validation set...\")\n",
    "y_pred = rf_binary.predict(X_test)\n",
    "\n",
    "# Data type conversion\n",
    "y_pred = y_pred.astype('int32')\n",
    "y_test = y_test.astype('int32')\n",
    "\n",
    "# Calculate metrics\n",
    "accuracy = accuracy_score(y_test, y_pred)\n",
    "conf_matrix = confusion_matrix(y_test, y_pred)\n",
    "\n",
    "# Convert to CPU for classification report\n",
    "y_test_cpu = y_test.to_pandas()\n",
    "y_pred_cpu = y_pred.to_pandas()\n",
    "class_report = classification_report(y_test_cpu, y_pred_cpu)\n",
    "\n",
    "print(f\"Validation Accuracy: {accuracy:.2f}\")\n",
    "print(\"\\nConfusion Matrix:\")\n",
    "print(conf_matrix)\n",
    "print(\"\\nClassification Report:\")\n",
    "print(class_report)"
   ]
  },
  {
   "cell_type": "code",
   "execution_count": 15,
   "metadata": {},
   "outputs": [
    {
     "name": "stdout",
     "output_type": "stream",
     "text": [
      "\n",
      "Evaluating on validation set...\n",
      "Validation Accuracy: 1.00\n",
      "\n",
      "Confusion Matrix:\n",
      "[[13409    13]\n",
      " [   73 11700]]\n",
      "\n",
      "Classification Report:\n",
      "              precision    recall  f1-score   support\n",
      "\n",
      "           0       0.99      1.00      1.00     13422\n",
      "           1       1.00      0.99      1.00     11773\n",
      "\n",
      "    accuracy                           1.00     25195\n",
      "   macro avg       1.00      1.00      1.00     25195\n",
      "weighted avg       1.00      1.00      1.00     25195\n",
      "\n"
     ]
    }
   ],
   "source": [
    "# Cell 5: Predict and evaluate on validation set\n",
    "print(\"\\nEvaluating on validation set...\")\n",
    "\n",
    "# Ensure y_test is int32 before prediction\n",
    "y_test = y_test.astype('int32')\n",
    "\n",
    "# Make predictions and convert to int32\n",
    "y_pred = rf_binary.predict(X_test)\n",
    "y_pred = cudf.Series(y_pred).astype('int32')\n",
    "\n",
    "# Calculate metrics\n",
    "accuracy = accuracy_score(y_test, y_pred)\n",
    "conf_matrix = confusion_matrix(y_test, y_pred)\n",
    "\n",
    "# Convert to CPU for classification report\n",
    "y_test_cpu = y_test.to_pandas()\n",
    "y_pred_cpu = y_pred.to_pandas()\n",
    "class_report = classification_report(y_test_cpu, y_pred_cpu)\n",
    "\n",
    "print(f\"Validation Accuracy: {accuracy:.2f}\")\n",
    "print(\"\\nConfusion Matrix:\")\n",
    "print(conf_matrix)\n",
    "print(\"\\nClassification Report:\")\n",
    "print(class_report)"
   ]
  },
  {
   "cell_type": "code",
   "execution_count": 16,
   "metadata": {},
   "outputs": [
    {
     "name": "stdout",
     "output_type": "stream",
     "text": [
      "\n",
      "Evaluating on external test set...\n",
      "External Test Set Accuracy: 0.81\n",
      "\n",
      "Confusion Matrix:\n",
      "[[8369 1342]\n",
      " [2916 9917]]\n",
      "\n",
      "Classification Report:\n",
      "              precision    recall  f1-score   support\n",
      "\n",
      "           0       0.74      0.86      0.80      9711\n",
      "           1       0.88      0.77      0.82     12833\n",
      "\n",
      "    accuracy                           0.81     22544\n",
      "   macro avg       0.81      0.82      0.81     22544\n",
      "weighted avg       0.82      0.81      0.81     22544\n",
      "\n"
     ]
    }
   ],
   "source": [
    "# Cell 6: Load and evaluate on external test set\n",
    "print(\"\\nEvaluating on external test set...\")\n",
    "df_test = cudf.read_csv(processed_test_path)\n",
    "\n",
    "X_external_test = df_test.drop(columns=['binary_label']).astype('float32')\n",
    "y_external_test = df_test['binary_label'].astype('int32') \n",
    "\n",
    "# Make predictions and convert to int32\n",
    "y_external_pred = rf_binary.predict(X_external_test)\n",
    "y_external_pred = cudf.Series(y_external_pred).astype('int32')\n",
    "\n",
    "# Calculate metrics\n",
    "accuracy_external = accuracy_score(y_external_test, y_external_pred)\n",
    "conf_matrix_external = confusion_matrix(y_external_test, y_external_pred)\n",
    "\n",
    "# Convert to CPU for classification report\n",
    "y_external_test_cpu = y_external_test.to_pandas()\n",
    "y_external_pred_cpu = y_external_pred.to_pandas()\n",
    "class_report_external = classification_report(y_external_test_cpu, y_external_pred_cpu)\n",
    "\n",
    "print(f\"External Test Set Accuracy: {accuracy_external:.2f}\")\n",
    "print(\"\\nConfusion Matrix:\")\n",
    "print(conf_matrix_external)\n",
    "print(\"\\nClassification Report:\")\n",
    "print(class_report_external)"
   ]
  }
 ],
 "metadata": {
  "kernelspec": {
   "display_name": "sl-nsl-env",
   "language": "python",
   "name": "python3"
  },
  "language_info": {
   "codemirror_mode": {
    "name": "ipython",
    "version": 3
   },
   "file_extension": ".py",
   "mimetype": "text/x-python",
   "name": "python",
   "nbconvert_exporter": "python",
   "pygments_lexer": "ipython3",
   "version": "3.10.15"
  }
 },
 "nbformat": 4,
 "nbformat_minor": 2
}
