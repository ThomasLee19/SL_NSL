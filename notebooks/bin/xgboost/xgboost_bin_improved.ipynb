{
 "cells": [
  {
   "cell_type": "code",
   "execution_count": null,
   "metadata": {},
   "outputs": [],
   "source": [
    "import pandas as pd\n",
    "import numpy as np\n",
    "import xgboost as xgb\n",
    "import matplotlib.pyplot as plt\n",
    "import seaborn as sns\n",
    "from sklearn.model_selection import train_test_split\n",
    "from sklearn.metrics import classification_report, accuracy_score, confusion_matrix, roc_curve, auc\n",
    "from imblearn.over_sampling import SMOTE\n",
    "from imblearn.under_sampling import RandomUnderSampler\n",
    "from imblearn.pipeline import Pipeline\n",
    "\n",
    "# Configure visualization settings\n",
    "sns.set_palette(\"husl\")"
   ]
  },
  {
   "cell_type": "code",
   "execution_count": null,
   "metadata": {},
   "outputs": [],
   "source": [
    "# Data Loading\n",
    "processed_train_path = '/root/autodl-tmp/projects/SL_NSL/dataset/processed/KDDTrain_processed.csv'\n",
    "df_train = pd.read_csv(processed_train_path)\n",
    "\n",
    "X = df_train.drop(columns=['label', 'binary_label'])\n",
    "y_binary = df_train['binary_label']\n",
    "\n",
    "print(f\"Dataset loaded: {X.shape[0]} samples, {X.shape[1]} features\")\n",
    "print(f\"Class distribution:\\n{y_binary.value_counts()}\")"
   ]
  },
  {
   "cell_type": "code",
   "execution_count": null,
   "metadata": {},
   "outputs": [],
   "source": [
    "# Data Split\n",
    "X_train, X_test, y_train, y_test = train_test_split(\n",
    "    X, y_binary, \n",
    "    test_size=0.2,\n",
    "    random_state=42,\n",
    "    stratify=y_binary\n",
    ")"
   ]
  },
  {
   "cell_type": "code",
   "execution_count": null,
   "metadata": {},
   "outputs": [],
   "source": [
    "# Model Configuration\n",
    "xgb_classifier = xgb.XGBClassifier(\n",
    "    objective='binary:logistic',\n",
    "    eval_metric='auc',\n",
    "    max_depth=6,\n",
    "    learning_rate=0.1,\n",
    "    subsample=0.8,\n",
    "    colsample_bytree=0.8,\n",
    "    min_child_weight=1,\n",
    "    scale_pos_weight=sum(y_binary == 0) / sum(y_binary == 1),\n",
    "    random_state=42,\n",
    "    n_estimators=1000,\n",
    "    early_stopping_rounds=50\n",
    ")\n",
    "\n",
    "# Pipeline Setup and Training\n",
    "pipeline = Pipeline([\n",
    "    ('smote', SMOTE(random_state=42)),\n",
    "    ('undersampler', RandomUnderSampler(random_state=42)),\n",
    "    ('classifier', xgb_classifier)\n",
    "])\n",
    "\n",
    "pipeline.fit(\n",
    "    X_train, \n",
    "    y_train,\n",
    "    classifier__eval_set=[(X_test, y_test)],\n",
    "    classifier__verbose=100\n",
    ")\n",
    "\n",
    "model = pipeline.named_steps['classifier']"
   ]
  },
  {
   "cell_type": "code",
   "execution_count": null,
   "metadata": {},
   "outputs": [],
   "source": [
    "# Feature Importance Analysis\n",
    "importance_scores = model.feature_importances_\n",
    "importance_df = pd.DataFrame({\n",
    "    'feature': X.columns,\n",
    "    'importance': importance_scores\n",
    "}).sort_values('importance', ascending=False)\n",
    "\n",
    "plt.figure(figsize=(12, 6))\n",
    "sns.barplot(data=importance_df.head(15), x='importance', y='feature')\n",
    "plt.title('Feature Importance Analysis')\n",
    "plt.tight_layout()\n",
    "plt.show()"
   ]
  },
  {
   "cell_type": "code",
   "execution_count": null,
   "metadata": {},
   "outputs": [],
   "source": [
    "# Validation Set Performance\n",
    "y_pred_proba = pipeline.predict_proba(X_test)[:, 1]\n",
    "y_pred = pipeline.predict(X_test)\n",
    "\n",
    "validation_metrics = {\n",
    "    'accuracy': accuracy_score(y_test, y_pred),\n",
    "    'confusion_matrix': confusion_matrix(y_test, y_pred),\n",
    "    'classification_report': classification_report(y_test, y_pred)\n",
    "}\n",
    "\n",
    "fpr, tpr, _ = roc_curve(y_test, y_pred_proba)\n",
    "validation_metrics['roc_auc'] = auc(fpr, tpr)\n",
    "\n",
    "print(\"\\nValidation Metrics:\")\n",
    "print(f\"Accuracy: {validation_metrics['accuracy']:.4f}\")\n",
    "print(f\"ROC AUC: {validation_metrics['roc_auc']:.4f}\")\n",
    "print(\"\\nConfusion Matrix:\")\n",
    "print(validation_metrics['confusion_matrix'])\n",
    "print(\"\\nClassification Report:\")\n",
    "print(validation_metrics['classification_report'])"
   ]
  },
  {
   "cell_type": "code",
   "execution_count": null,
   "metadata": {},
   "outputs": [],
   "source": [
    "# External Test Set Evaluation\n",
    "processed_test_path = '/root/autodl-tmp/projects/SL_NSL/dataset/processed/KDDTest_processed.csv'\n",
    "df_test = pd.read_csv(processed_test_path)\n",
    "\n",
    "X_external = df_test.drop(columns=['label', 'binary_label'])\n",
    "y_external = df_test['binary_label']\n",
    "\n",
    "y_external_proba = pipeline.predict_proba(X_external)[:, 1]\n",
    "y_external_pred = pipeline.predict(X_external)\n",
    "\n",
    "test_metrics = {\n",
    "    'accuracy': accuracy_score(y_external, y_external_pred),\n",
    "    'confusion_matrix': confusion_matrix(y_external, y_external_pred),\n",
    "    'classification_report': classification_report(y_external, y_external_pred)\n",
    "}\n",
    "\n",
    "print(\"\\nExternal Test Set Metrics:\")\n",
    "print(f\"Accuracy: {test_metrics['accuracy']:.4f}\")\n",
    "print(\"\\nConfusion Matrix:\")\n",
    "print(test_metrics['confusion_matrix'])\n",
    "print(\"\\nClassification Report:\")\n",
    "print(test_metrics['classification_report'])"
   ]
  },
  {
   "cell_type": "code",
   "execution_count": null,
   "metadata": {},
   "outputs": [],
   "source": [
    "# Performance Summary\n",
    "metrics_df = pd.DataFrame({\n",
    "    'Metric': ['Accuracy', 'Normal Precision', 'Normal Recall', 'Anomaly Precision', 'Anomaly Recall'],\n",
    "    'Validation': [\n",
    "        validation_metrics['accuracy'],\n",
    "        float(validation_metrics['classification_report'].split('\\n')[2].split()[2]),\n",
    "        float(validation_metrics['classification_report'].split('\\n')[2].split()[3]),\n",
    "        float(validation_metrics['classification_report'].split('\\n')[3].split()[2]),\n",
    "        float(validation_metrics['classification_report'].split('\\n')[3].split()[3])\n",
    "    ],\n",
    "    'Test': [\n",
    "        test_metrics['accuracy'],\n",
    "        float(test_metrics['classification_report'].split('\\n')[2].split()[2]),\n",
    "        float(test_metrics['classification_report'].split('\\n')[2].split()[3]),\n",
    "        float(test_metrics['classification_report'].split('\\n')[3].split()[2]),\n",
    "        float(test_metrics['classification_report'].split('\\n')[3].split()[3])\n",
    "    ]\n",
    "})\n",
    "\n",
    "print(\"\\nPerformance Summary:\")\n",
    "print(metrics_df.round(4))"
   ]
  }
 ],
 "metadata": {
  "kernelspec": {
   "display_name": "rf-nsl-env",
   "language": "python",
   "name": "python3"
  },
  "language_info": {
   "codemirror_mode": {
    "name": "ipython",
    "version": 3
   },
   "file_extension": ".py",
   "mimetype": "text/x-python",
   "name": "python",
   "nbconvert_exporter": "python",
   "pygments_lexer": "ipython3",
   "version": "3.10.7"
  }
 },
 "nbformat": 4,
 "nbformat_minor": 2
}
