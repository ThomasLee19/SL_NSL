{
 "cells": [
  {
   "cell_type": "code",
   "execution_count": 1,
   "metadata": {},
   "outputs": [],
   "source": [
    "import pandas as pd\n",
    "from sklearn.model_selection import train_test_split\n",
    "from xgboost import XGBClassifier\n",
    "from sklearn.metrics import classification_report, accuracy_score, confusion_matrix\n",
    "\n",
    "# Define paths\n",
    "processed_train_path = '/root/autodl-tmp/projects/SL_NSL/dataset/processed/KDDTrain_processed.csv'\n",
    "processed_test_path = '/root/autodl-tmp/projects/SL_NSL/dataset/processed/KDDTest_processed.csv'"
   ]
  },
  {
   "cell_type": "code",
   "execution_count": 2,
   "metadata": {},
   "outputs": [
    {
     "name": "stdout",
     "output_type": "stream",
     "text": [
      "Loading processed training data...\n"
     ]
    },
    {
     "name": "stdout",
     "output_type": "stream",
     "text": [
      "Feature matrix shape: (125973, 108)\n",
      "Label distribution:\n",
      "0    67343\n",
      "1    58630\n",
      "Name: binary_label, dtype: int64\n"
     ]
    }
   ],
   "source": [
    "# Load training data\n",
    "print(\"Loading processed training data...\")\n",
    "df_train = pd.read_csv(processed_train_path)\n",
    "\n",
    "# Select features and labels\n",
    "X = df_train.drop(columns=['label', 'binary_label'])\n",
    "y_binary = df_train['binary_label']\n",
    "\n",
    "# Display data info\n",
    "print(\"Feature matrix shape:\", X.shape)\n",
    "print(\"Label distribution:\")\n",
    "print(y_binary.value_counts())"
   ]
  },
  {
   "cell_type": "code",
   "execution_count": 3,
   "metadata": {},
   "outputs": [
    {
     "name": "stdout",
     "output_type": "stream",
     "text": [
      "Dataset split complete\n",
      "Training samples: 100778\n",
      "Validation samples: 25195\n"
     ]
    }
   ],
   "source": [
    "# Split into training and validation sets\n",
    "X_train, X_test, y_train, y_test = train_test_split(\n",
    "    X, y_binary, test_size=0.2, random_state=42\n",
    ")\n",
    "\n",
    "print(\"Dataset split complete\")\n",
    "print(f\"Training samples: {X_train.shape[0]}\")\n",
    "print(f\"Validation samples: {X_test.shape[0]}\")"
   ]
  },
  {
   "cell_type": "code",
   "execution_count": 4,
   "metadata": {},
   "outputs": [
    {
     "name": "stdout",
     "output_type": "stream",
     "text": [
      "\n",
      "Training XGBoost model...\n"
     ]
    },
    {
     "name": "stdout",
     "output_type": "stream",
     "text": [
      "\n",
      "Top 10 most important features:\n"
     ]
    },
    {
     "data": {
      "text/html": [
       "<div>\n",
       "<style scoped>\n",
       "    .dataframe tbody tr th:only-of-type {\n",
       "        vertical-align: middle;\n",
       "    }\n",
       "\n",
       "    .dataframe tbody tr th {\n",
       "        vertical-align: top;\n",
       "    }\n",
       "\n",
       "    .dataframe thead th {\n",
       "        text-align: right;\n",
       "    }\n",
       "</style>\n",
       "<table border=\"1\" class=\"dataframe\">\n",
       "  <thead>\n",
       "    <tr style=\"text-align: right;\">\n",
       "      <th></th>\n",
       "      <th>feature</th>\n",
       "      <th>importance</th>\n",
       "    </tr>\n",
       "  </thead>\n",
       "  <tbody>\n",
       "    <tr>\n",
       "      <th>16</th>\n",
       "      <td>service_ecr_i</td>\n",
       "      <td>0.357669</td>\n",
       "    </tr>\n",
       "    <tr>\n",
       "      <th>96</th>\n",
       "      <td>src_bytes</td>\n",
       "      <td>0.213946</td>\n",
       "    </tr>\n",
       "    <tr>\n",
       "      <th>5</th>\n",
       "      <td>service_http</td>\n",
       "      <td>0.103912</td>\n",
       "    </tr>\n",
       "    <tr>\n",
       "      <th>13</th>\n",
       "      <td>diff_srv_rate</td>\n",
       "      <td>0.050648</td>\n",
       "    </tr>\n",
       "    <tr>\n",
       "      <th>2</th>\n",
       "      <td>logged_in</td>\n",
       "      <td>0.027883</td>\n",
       "    </tr>\n",
       "    <tr>\n",
       "      <th>19</th>\n",
       "      <td>wrong_fragment</td>\n",
       "      <td>0.027107</td>\n",
       "    </tr>\n",
       "    <tr>\n",
       "      <th>101</th>\n",
       "      <td>dst_bytes</td>\n",
       "      <td>0.022643</td>\n",
       "    </tr>\n",
       "    <tr>\n",
       "      <th>71</th>\n",
       "      <td>is_guest_login</td>\n",
       "      <td>0.019332</td>\n",
       "    </tr>\n",
       "    <tr>\n",
       "      <th>6</th>\n",
       "      <td>service_private</td>\n",
       "      <td>0.016268</td>\n",
       "    </tr>\n",
       "    <tr>\n",
       "      <th>20</th>\n",
       "      <td>dst_host_same_src_port_rate</td>\n",
       "      <td>0.015376</td>\n",
       "    </tr>\n",
       "  </tbody>\n",
       "</table>\n",
       "</div>"
      ],
      "text/plain": [
       "                         feature  importance\n",
       "16                 service_ecr_i    0.357669\n",
       "96                     src_bytes    0.213946\n",
       "5                   service_http    0.103912\n",
       "13                 diff_srv_rate    0.050648\n",
       "2                      logged_in    0.027883\n",
       "19                wrong_fragment    0.027107\n",
       "101                    dst_bytes    0.022643\n",
       "71                is_guest_login    0.019332\n",
       "6                service_private    0.016268\n",
       "20   dst_host_same_src_port_rate    0.015376"
      ]
     },
     "metadata": {},
     "output_type": "display_data"
    }
   ],
   "source": [
    "# Create and train XGBoost model\n",
    "print(\"\\nTraining XGBoost model...\")\n",
    "rf_binary = XGBClassifier(n_estimators=50, random_state=42)\n",
    "rf_binary.fit(X_train, y_train)\n",
    "\n",
    "# Display feature importance\n",
    "feature_importance = pd.DataFrame({\n",
    "    'feature': X.columns,\n",
    "    'importance': rf_binary.feature_importances_\n",
    "})\n",
    "print(\"\\nTop 10 most important features:\")\n",
    "display(feature_importance.sort_values('importance', ascending=False).head(10))"
   ]
  },
  {
   "cell_type": "code",
   "execution_count": 5,
   "metadata": {},
   "outputs": [
    {
     "name": "stdout",
     "output_type": "stream",
     "text": [
      "\n",
      "Evaluating on validation set...\n",
      "Validation Accuracy: 1.00\n",
      "\n",
      "Confusion Matrix:\n",
      "[[13407    15]\n",
      " [   16 11757]]\n",
      "\n",
      "Classification Report:\n",
      "              precision    recall  f1-score   support\n",
      "\n",
      "           0       1.00      1.00      1.00     13422\n",
      "           1       1.00      1.00      1.00     11773\n",
      "\n",
      "    accuracy                           1.00     25195\n",
      "   macro avg       1.00      1.00      1.00     25195\n",
      "weighted avg       1.00      1.00      1.00     25195\n",
      "\n"
     ]
    }
   ],
   "source": [
    "# Predict and evaluate on validation set\n",
    "print(\"\\nEvaluating on validation set...\")\n",
    "y_pred = rf_binary.predict(X_test)\n",
    "\n",
    "# Calculate metrics\n",
    "accuracy = accuracy_score(y_test, y_pred)\n",
    "conf_matrix = confusion_matrix(y_test, y_pred)\n",
    "class_report = classification_report(y_test, y_pred)\n",
    "\n",
    "print(f\"Validation Accuracy: {accuracy:.2f}\")\n",
    "print(\"\\nConfusion Matrix:\")\n",
    "print(conf_matrix)\n",
    "print(\"\\nClassification Report:\")\n",
    "print(class_report)"
   ]
  },
  {
   "cell_type": "code",
   "execution_count": 6,
   "metadata": {},
   "outputs": [
    {
     "name": "stdout",
     "output_type": "stream",
     "text": [
      "\n",
      "Evaluating on external test set...\n",
      "External Test Set Accuracy: 0.86\n",
      "\n",
      "Confusion Matrix:\n",
      "[[ 6813  2898]\n",
      " [  330 12503]]\n",
      "\n",
      "Classification Report:\n",
      "              precision    recall  f1-score   support\n",
      "\n",
      "           0       0.95      0.70      0.81      9711\n",
      "           1       0.81      0.97      0.89     12833\n",
      "\n",
      "    accuracy                           0.86     22544\n",
      "   macro avg       0.88      0.84      0.85     22544\n",
      "weighted avg       0.87      0.86      0.85     22544\n",
      "\n"
     ]
    }
   ],
   "source": [
    "# Load and evaluate on external test set\n",
    "print(\"\\nEvaluating on external test set...\")\n",
    "df_test = pd.read_csv(processed_test_path)\n",
    "\n",
    "X_external_test = df_test.drop(columns=['label', 'binary_label'])\n",
    "y_external_test = df_test['binary_label']\n",
    "\n",
    "# Make predictions\n",
    "y_external_pred = rf_binary.predict(X_external_test)\n",
    "\n",
    "# Calculate metrics\n",
    "accuracy_external = accuracy_score(y_external_test, y_external_pred)\n",
    "conf_matrix_external = confusion_matrix(y_external_test, y_external_pred)\n",
    "class_report_external = classification_report(y_external_test, y_external_pred)\n",
    "\n",
    "print(f\"External Test Set Accuracy: {accuracy_external:.2f}\")\n",
    "print(\"\\nConfusion Matrix:\")\n",
    "print(conf_matrix_external)\n",
    "print(\"\\nClassification Report:\")\n",
    "print(class_report_external)"
   ]
  }
 ],
 "metadata": {
  "kernelspec": {
   "display_name": "sl-nsl-env",
   "language": "python",
   "name": "python3"
  },
  "language_info": {
   "codemirror_mode": {
    "name": "ipython",
    "version": 3
   },
   "file_extension": ".py",
   "mimetype": "text/x-python",
   "name": "python",
   "nbconvert_exporter": "python",
   "pygments_lexer": "ipython3",
   "version": "3.10.15"
  }
 },
 "nbformat": 4,
 "nbformat_minor": 2
}
